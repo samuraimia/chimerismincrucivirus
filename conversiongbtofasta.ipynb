{
 "cells": [
  {
   "cell_type": "code",
   "execution_count": 17,
   "id": "5f59efa4",
   "metadata": {},
   "outputs": [
    {
     "name": "stdout",
     "output_type": "stream",
     "text": [
      "Converted 27 records\n"
     ]
    },
    {
     "name": "stderr",
     "output_type": "stream",
     "text": [
      "/home/shreya/.local/lib/python3.8/site-packages/Bio/GenBank/__init__.py:359: BiopythonParserWarning: Attempting to fix invalid location '2612..16' as it looks like incorrect origin wrapping. Please fix input file, this could have unintended behavior.\n",
      "  warnings.warn(\n",
      "/home/shreya/.local/lib/python3.8/site-packages/Bio/GenBank/__init__.py:359: BiopythonParserWarning: Attempting to fix invalid location '2857..19' as it looks like incorrect origin wrapping. Please fix input file, this could have unintended behavior.\n",
      "  warnings.warn(\n",
      "/home/shreya/.local/lib/python3.8/site-packages/Bio/GenBank/__init__.py:359: BiopythonParserWarning: Attempting to fix invalid location '2870..19' as it looks like incorrect origin wrapping. Please fix input file, this could have unintended behavior.\n",
      "  warnings.warn(\n",
      "/home/shreya/.local/lib/python3.8/site-packages/Bio/GenBank/__init__.py:359: BiopythonParserWarning: Attempting to fix invalid location '2872..17' as it looks like incorrect origin wrapping. Please fix input file, this could have unintended behavior.\n",
      "  warnings.warn(\n"
     ]
    }
   ],
   "source": [
    "from Bio import SeqIO\n",
    "\n",
    "with open(\"Putative CruV Capsid Protein.gb\") as input_handle, open(\n",
    "    \"Putative CruV Capsid Protein.fasta\", \"w\"\n",
    ") as output_handle:\n",
    "    sequences = SeqIO.parse(input_handle, \"genbank\")\n",
    "    count = SeqIO.write(sequences, output_handle, \"fasta\")\n",
    "\n",
    "print(\"Converted %i records\" % count)"
   ]
  },
  {
   "cell_type": "code",
   "execution_count": null,
   "id": "5f2f343c",
   "metadata": {},
   "outputs": [],
   "source": []
  }
 ],
 "metadata": {
  "kernelspec": {
   "display_name": "Python 3 (ipykernel)",
   "language": "python",
   "name": "python3"
  },
  "language_info": {
   "codemirror_mode": {
    "name": "ipython",
    "version": 3
   },
   "file_extension": ".py",
   "mimetype": "text/x-python",
   "name": "python",
   "nbconvert_exporter": "python",
   "pygments_lexer": "ipython3",
   "version": "3.8.10"
  }
 },
 "nbformat": 4,
 "nbformat_minor": 5
}
